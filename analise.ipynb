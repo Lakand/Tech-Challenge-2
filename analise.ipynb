{
 "cells": [
  {
   "cell_type": "code",
   "execution_count": null,
   "id": "8f98637f",
   "metadata": {
    "vscode": {
     "languageId": "plaintext"
    }
   },
   "outputs": [],
   "source": [
    "import matplotlib.pyplot as plt\n",
    "import seaborn as sns\n",
    "import pandas as pd\n",
    "\n",
    "query = \"\"\"\n",
    "SELECT\n",
    "    setor,\n",
    "    SUM(soma_porcentagem_particao) AS porcentagem_participacao\n",
    "FROM bovespa_db.refined_bovespa\n",
    "WHERE data_pregao = DATE '2025-07-15'\n",
    "GROUP BY setor\n",
    "ORDER BY porcentagem_participacao DESC\n",
    "LIMIT 15\n",
    "\"\"\"\n",
    "\n",
    "spark_df = spark.sql(query)\n",
    "df_setores = spark_df.toPandas()\n",
    "\n",
    "\n",
    "plt.style.use('seaborn-darkgrid') \n",
    "plt.figure(figsize=(14, 8))\n",
    "\n",
    "sns.barplot(\n",
    "    x='porcentagem_participacao',\n",
    "    y='setor',\n",
    "    data=df_setores,\n",
    "    palette='viridis'\n",
    ")\n",
    "\n",
    "plt.title('Participação Percentual por Setor no Ibovespa (15/07/2025)', fontsize=18, fontweight='bold')\n",
    "plt.xlabel('Participação Total no Índice (%)', fontsize=12)\n",
    "plt.ylabel('Setor Econômico', fontsize=12)\n",
    "plt.tight_layout()\n",
    "\n",
    "%matplot plt"
   ]
  },
  {
   "cell_type": "code",
   "execution_count": null,
   "id": "8833a59b",
   "metadata": {
    "vscode": {
     "languageId": "plaintext"
    }
   },
   "outputs": [],
   "source": [
    "%%sql\n",
    "SELECT codigo_acao, sum(soma_porcentagem_particao) as porcentagem_participacao\n",
    "FROM bovespa_db.refined_bovespa\n",
    "group by codigo_acao\n",
    "order by porcentagem_participacao desc\n",
    "LIMIT 5;"
   ]
  },
  {
   "cell_type": "code",
   "execution_count": null,
   "id": "041a1cc8",
   "metadata": {
    "vscode": {
     "languageId": "plaintext"
    }
   },
   "outputs": [],
   "source": [
    "import matplotlib.pyplot as plt\n",
    "import seaborn as sns\n",
    "import pandas as pd\n",
    "\n",
    "query = \"\"\"\n",
    "SELECT\n",
    "    data_pregao,\n",
    "    codigo_acao,\n",
    "    soma_porcentagem_particao\n",
    "FROM bovespa_db.refined_bovespa\n",
    "WHERE codigo_acao IN ('VALE3', 'ITUB4', 'PETR4', 'PETR3', 'BBDC4')\n",
    "ORDER BY data_pregao ASC\n",
    "\"\"\"\n",
    "\n",
    "spark_df = spark.sql(query)\n",
    "df_timeseries = spark_df.toPandas()\n",
    "\n",
    "\n",
    "plt.style.use('seaborn-darkgrid')\n",
    "plt.figure(figsize=(15, 8))\n",
    "\n",
    "sns.lineplot(\n",
    "    data=df_timeseries,\n",
    "    x='data_pregao',\n",
    "    y='soma_porcentagem_particao',\n",
    "    hue='codigo_acao',  # Cria uma linha de cor diferente para cada ação\n",
    "    style='codigo_acao', # Cria um estilo de linha/marcador diferente para cada ação\n",
    "    markers=True,\n",
    "    dashes=False\n",
    ")\n",
    "\n",
    "\n",
    "plt.title('Série Temporal da Participação (Top 5 Ações)', fontsize=18, fontweight='bold')\n",
    "plt.xlabel('Data do Pregão', fontsize=12)\n",
    "plt.ylabel('Porcentagem da Participação', fontsize=12)\n",
    "plt.xticks(rotation=45) # Rotaciona as datas no eixo X para melhor leitura\n",
    "plt.legend(title='Ação')\n",
    "plt.tight_layout()\n",
    "\n",
    "\n",
    "%matplot plt"
   ]
  }
 ],
 "metadata": {
  "language_info": {
   "name": "python"
  }
 },
 "nbformat": 4,
 "nbformat_minor": 5
}
